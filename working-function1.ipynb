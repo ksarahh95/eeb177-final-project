{
 "cells": [
  {
   "cell_type": "markdown",
   "metadata": {},
   "source": [
    "## Function #1: Creating a list of unique dog species"
   ]
  },
  {
   "cell_type": "code",
   "execution_count": 8,
   "metadata": {
    "collapsed": false
   },
   "outputs": [
    {
     "data": {
      "text/plain": [
       "{'Aenocyon ayersi': 'species',\n",
       " 'Aenocyon ayersi ?': 'species',\n",
       " 'Aenocyon cf. ayersi': 'species',\n",
       " 'Aenocyon cf. dirus': 'species',\n",
       " 'Aenocyon dirus': 'species',\n",
       " 'Canis (Xenocyon) falconeri': 'species',\n",
       " 'Canis ? latrans': 'species',\n",
       " 'Canis adustus': 'species',\n",
       " 'Canis aff. adustus': 'species',\n",
       " 'Canis aff. arnensis': 'species',\n",
       " 'Canis aff. aureus': 'species',\n",
       " 'Canis aff. etruscus': 'species',\n",
       " 'Canis aff. lupus': 'species',\n",
       " 'Canis andersoni': 'species',\n",
       " 'Canis anthus': 'species',\n",
       " 'Canis armbrusteri': 'species',\n",
       " 'Canis arnensis': 'species',\n",
       " 'Canis aureus': 'species',\n",
       " 'Canis aureus ?': 'species',\n",
       " 'Canis avus': 'species',\n",
       " 'Canis ayersi': 'species',\n",
       " 'Canis brevirostris': 'species',\n",
       " 'Canis cf. adustus': 'species',\n",
       " 'Canis cf. dirus': 'species',\n",
       " 'Canis cf. edwardii': 'species',\n",
       " 'Canis cf. etruscus': 'species',\n",
       " 'Canis cf. falconeri': 'species',\n",
       " 'Canis cf. ferox': 'species',\n",
       " 'Canis cf. kronstadtensis': 'species',\n",
       " 'Canis cf. latrans': 'species',\n",
       " 'Canis cf. lepophagus': 'species',\n",
       " 'Canis cf. lupaster': 'species',\n",
       " 'Canis cf. lupus': 'species',\n",
       " 'Canis cf. mesomelas': 'species',\n",
       " 'Canis cf. mosbachensis': 'species',\n",
       " 'Canis cf. occidentalis': 'species',\n",
       " 'Canis cf. priscolatrans': 'species',\n",
       " 'Canis cf. riviveronis': 'species',\n",
       " 'Canis cf. senezensis': 'species',\n",
       " 'Canis cf. spelaeus': 'species',\n",
       " 'Canis cf. terblanchei': 'species',\n",
       " 'Canis cipio': 'species',\n",
       " 'Canis dirus': 'species',\n",
       " 'Canis edwardii': 'species',\n",
       " 'Canis etruscus': 'species',\n",
       " 'Canis ex gr. etruscus': 'species',\n",
       " 'Canis falconeri': 'species',\n",
       " 'Canis familiaris': 'species',\n",
       " 'Canis ferox': 'species',\n",
       " 'Canis indianensis': 'species',\n",
       " 'Canis kuruksaensis': 'species',\n",
       " 'Canis latrans': 'species',\n",
       " 'Canis latrans ?': 'species',\n",
       " 'Canis lepophagus': 'species',\n",
       " 'Canis lupes': 'species',\n",
       " 'Canis lupus': 'species',\n",
       " 'Canis mesomelas': 'species',\n",
       " 'Canis microdon': 'species',\n",
       " 'Canis milleri': 'species',\n",
       " 'Canis mosbachensis': 'species',\n",
       " 'Canis mosbachensis ?': 'species',\n",
       " 'Canis n. sp. apolloniensis': 'species',\n",
       " 'Canis n. sp. armbrusteri': 'species',\n",
       " 'Canis n. sp. ayersi': 'species',\n",
       " 'Canis n. sp. cedazoensis': 'species',\n",
       " 'Canis n. sp. ferox': 'species',\n",
       " 'Canis n. sp. lepophagus': 'species',\n",
       " 'Canis n. sp. multicuspus': 'species',\n",
       " 'Canis n. sp. thooides': 'species',\n",
       " 'Canis nubilus': 'species',\n",
       " 'Canis occidentalis': 'species',\n",
       " 'Canis ochropus': 'species',\n",
       " 'Canis ochropus ?': 'species',\n",
       " 'Canis odessanus': 'species',\n",
       " 'Canis proplatensis': 'species',\n",
       " 'Canis rufus': 'species',\n",
       " 'Canis tengisii': 'species',\n",
       " 'Canis terblanchei': 'species',\n",
       " 'Canis variabilis': 'species',\n",
       " 'Canis yuanmouensis': 'species',\n",
       " 'Pseudalopex aff. gymnocercus': 'species',\n",
       " 'Pseudalopex griseus': 'species',\n",
       " 'Pseudalopex gymnocercus': 'species',\n",
       " 'aff. Canis brevirostris': 'species',\n",
       " 'cf. Canis brevirostris': 'species',\n",
       " 'cf. Canis mesomelas': 'species',\n",
       " 'n. gen. Pachycyon n. sp. robustus': 'species'}"
      ]
     },
     "execution_count": 8,
     "metadata": {},
     "output_type": "execute_result"
    }
   ],
   "source": [
    "def species_list(filename):\n",
    "    dog_species = {}\n",
    "    ff = open(filename, \"r\", encoding = \"ISO-8859-15\")\n",
    "    ss = ff.readlines()[2:]\n",
    "    for line in ss:\n",
    "        line = line.split(\",\")\n",
    "        name = line[5]\n",
    "        rank = line[6]\n",
    "        if rank == 'species':\n",
    "            dog_species[name] = rank\n",
    "    return dog_species\n",
    "species_list(\"my-final-formatted-dog.csv\")\n"
   ]
  },
  {
   "cell_type": "code",
   "execution_count": null,
   "metadata": {
    "collapsed": true
   },
   "outputs": [],
   "source": []
  }
 ],
 "metadata": {
  "kernelspec": {
   "display_name": "Python 3",
   "language": "python",
   "name": "python3"
  },
  "language_info": {
   "codemirror_mode": {
    "name": "ipython",
    "version": 3
   },
   "file_extension": ".py",
   "mimetype": "text/x-python",
   "name": "python",
   "nbconvert_exporter": "python",
   "pygments_lexer": "ipython3",
   "version": "3.5.2"
  }
 },
 "nbformat": 4,
 "nbformat_minor": 2
}
