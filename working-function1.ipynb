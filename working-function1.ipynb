{
 "cells": [
  {
   "cell_type": "markdown",
   "metadata": {},
   "source": [
    "## list of identifiable name/rank pairs"
   ]
  },
  {
   "cell_type": "code",
   "execution_count": null,
   "metadata": {
    "collapsed": true
   },
   "outputs": [],
   "source": [
    "nature_dog = {}\n",
    "ff = open(\"new_formatted_dog.csv\", \"r\", encoding = \"ISO-8859-15\")\n",
    "ss = ff.readlines()[31:]\n",
    "for line in ss:\n",
    "    line = line.strip().strip('\\n')\n",
    "    if line:\n",
    "        data = line.split(\",\")\n",
    "        nam = line.split(\",\")[5]\n",
    "        ran = line.split(\",\")[6]\n",
    "        nature_dog[nam] = ran\n",
    "ff.close()"
   ]
  }
 ],
 "metadata": {
  "kernelspec": {
   "display_name": "Python 3",
   "language": "python",
   "name": "python3"
  },
  "language_info": {
   "codemirror_mode": {
    "name": "ipython",
    "version": 3
   },
   "file_extension": ".py",
   "mimetype": "text/x-python",
   "name": "python",
   "nbconvert_exporter": "python",
   "pygments_lexer": "ipython3",
   "version": "3.5.2"
  }
 },
 "nbformat": 4,
 "nbformat_minor": 2
}
